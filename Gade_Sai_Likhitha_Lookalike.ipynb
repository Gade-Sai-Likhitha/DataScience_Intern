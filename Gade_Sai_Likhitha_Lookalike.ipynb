{
 "cells": [
  {
   "cell_type": "code",
   "execution_count": 1,
   "id": "1d4173d0-9f7f-48dc-b74c-9b39ac1b01f0",
   "metadata": {},
   "outputs": [],
   "source": [
    "import pandas as pd\n",
    "from sklearn.metrics.pairwise import cosine_similarity\n"
   ]
  },
  {
   "cell_type": "code",
   "execution_count": 2,
   "id": "8d2df717-a079-473d-b373-669d936f3961",
   "metadata": {},
   "outputs": [],
   "source": [
    "customers = pd.read_csv('Customers.csv')\n",
    "transactions = pd.read_csv('Transactions.csv')\n",
    "products = pd.read_csv('Products.csv')\n"
   ]
  },
  {
   "cell_type": "code",
   "execution_count": 3,
   "id": "22235721-0f68-407b-9953-e47a7cf1a368",
   "metadata": {},
   "outputs": [],
   "source": [
    "data = transactions.merge(customers, on='CustomerID').merge(products, on='ProductID')"
   ]
  },
  {
   "cell_type": "code",
   "execution_count": 4,
   "id": "d52aee20-a6f8-4025-b104-1630a02dc421",
   "metadata": {},
   "outputs": [],
   "source": [
    "user_product_matrix = data.pivot_table(index='CustomerID', columns='ProductID', values='Quantity', fill_value=0)"
   ]
  },
  {
   "cell_type": "code",
   "execution_count": 5,
   "id": "9c391364-bb86-4a06-ac6b-fba7bf980dc0",
   "metadata": {},
   "outputs": [],
   "source": [
    "similarity_matrix = cosine_similarity(user_product_matrix)\n",
    "similarity_df = pd.DataFrame(similarity_matrix, index=user_product_matrix.index, columns=user_product_matrix.index)"
   ]
  },
  {
   "cell_type": "code",
   "execution_count": 6,
   "id": "c948783c-ea8b-43d1-9d3f-e1a11f1e2398",
   "metadata": {},
   "outputs": [],
   "source": [
    "# Recommend top 3 similar customers for each of the first 20 customers\n",
    "lookalike_results = {}\n",
    "for customer_id in customers['CustomerID'][:20]:\n",
    "    if customer_id in similarity_df.index:\n",
    "        similar_customers = similarity_df.loc[customer_id].sort_values(ascending=False).iloc[1:4]\n",
    "        lookalike_results[customer_id] = list(similar_customers.items())\n",
    "    else:\n",
    "        lookalike_results[customer_id] = []  # Handle customers with no data"
   ]
  },
  {
   "cell_type": "code",
   "execution_count": 7,
   "id": "e23eaa84-24a7-4eaa-8ff2-5368ae72452e",
   "metadata": {},
   "outputs": [],
   "source": [
    "lookalike_df = pd.DataFrame({\"CustomerID\": lookalike_results.keys(), \"SimilarCustomers\": lookalike_results.values()})\n",
    "lookalike_df.to_csv(\"Gade_Sailikhitha_Lookalike.csv\", index=False)"
   ]
  },
  {
   "cell_type": "code",
   "execution_count": null,
   "id": "9cdb5192-a7c2-412a-8940-ba72002804bc",
   "metadata": {},
   "outputs": [],
   "source": []
  }
 ],
 "metadata": {
  "kernelspec": {
   "display_name": "Python 3 (ipykernel)",
   "language": "python",
   "name": "python3"
  },
  "language_info": {
   "codemirror_mode": {
    "name": "ipython",
    "version": 3
   },
   "file_extension": ".py",
   "mimetype": "text/x-python",
   "name": "python",
   "nbconvert_exporter": "python",
   "pygments_lexer": "ipython3",
   "version": "3.12.2"
  }
 },
 "nbformat": 4,
 "nbformat_minor": 5
}
